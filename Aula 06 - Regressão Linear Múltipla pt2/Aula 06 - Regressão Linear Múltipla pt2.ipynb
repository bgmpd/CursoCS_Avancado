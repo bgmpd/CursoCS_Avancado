{
 "cells": [
  {
   "cell_type": "markdown",
   "id": "c78af7d1",
   "metadata": {},
   "source": [
    "# Aula 06 - Regressão Linear Múltipla pt2\n",
    "\n",
    "O objetivo desta aula é melhorar nosso modelo de Regressão Linear Múltipla que começamos semana passada.\n",
    "\n",
    "O primeiro conceito que introduziremos é a remoção de variáveis que não acrescentam na performance do modelo. Nem sempre mais variáveis é melhor. Algumas não vão ajudar e podem simplesmente \"poluir\" o modelo. Vamos aprender a identificar essas variáveis e removê-las.\n",
    "\n",
    "Vamos explorar o método de backwards-elimination. Basicamente é quando começamos com todas as variáveis e vamos cortando-as aos poucos do modelo.\n",
    "\n",
    "Como da última vez, vamos iniciar com as nossas funções de pré-processamento."
   ]
  },
  {
   "cell_type": "code",
   "execution_count": 1,
   "id": "99dead95",
   "metadata": {},
   "outputs": [],
   "source": [
    "import numpy as np\n",
    "import pandas as pd\n",
    "\n",
    "def loadDataset(filename):\n",
    "    baseDeDados = pd.read_csv(filename, delimiter=';')\n",
    "    X = baseDeDados.iloc[:,:-1].values\n",
    "    y = baseDeDados.iloc[:,-1].values\n",
    "    return X, y\n",
    "\n",
    "def fillMissingData(X, inicioColuna, fimColuna):\n",
    "    from sklearn.impute import SimpleImputer\n",
    "    imputer = SimpleImputer(missing_values=np.nan, strategy='median')\n",
    "    X[:,inicioColuna:fimColuna + 1] = imputer.fit_transform(X[:,inicioColuna:fimColuna + 1])\n",
    "    return X\n",
    "\n",
    "# só funciona se i = 0 ou i = ultima coluna\n",
    "def computeCategorization(X, i):\n",
    "    \n",
    "    from sklearn.preprocessing import LabelEncoder\n",
    "    labelencoder_X = LabelEncoder()\n",
    "    X[:, i] = labelencoder_X.fit_transform(X[:, i])\n",
    "\n",
    "    #one hot encoding\n",
    "    D = pd.get_dummies(X[:,i]).values #Cria dummies para os valores únicos encontrados na coluna i da matriz X\n",
    "    if(i == 0):\n",
    "        X = X[:,1:]\n",
    "        X = np.insert(X, 0, D, axis=1)\n",
    "        #removendo dummy variable trap\n",
    "        X = X[:,1:]\n",
    "    else:\n",
    "        X = X[:,:i]\n",
    "        for j in range(0, D.shape[1]): #Para cada coluna da matriz D vai inserindo uma a uma ao final de X.\n",
    "            X = np.insert(X, i, D[:,j], axis=1)\n",
    "        #removendo dummy variable trap\n",
    "        X = X[:,:-1]\n",
    "    return X\n",
    "\n",
    "def splitTrainTestSets(X, y, testSize):\n",
    "    from sklearn.model_selection import train_test_split\n",
    "    XTrain, XTest, yTrain, yTest = train_test_split(X, y, test_size = testSize)\n",
    "    return XTrain, XTest, yTrain, yTest\n",
    "\n",
    "def computeScaling(train, test):\n",
    "    from sklearn.preprocessing import StandardScaler\n",
    "    scaleX = StandardScaler()\n",
    "    train = scaleX.fit_transform(train)\n",
    "    test = scaleX.fit_transform(test)\n",
    "    return train, test"
   ]
  },
  {
   "cell_type": "markdown",
   "id": "58c48c38",
   "metadata": {},
   "source": [
    "Agora sim vamos entrar na função de Regressão Multilinear com Backward-Elimination. No código abaixo, o professor fez a análise e remoção de cada variável com p-value maior que 5 \"na mão\". Então ele ficou bem verboso."
   ]
  },
  {
   "cell_type": "code",
   "execution_count": 2,
   "id": "4364784a",
   "metadata": {},
   "outputs": [],
   "source": [
    "def computeBackwardElimination(X, y):\n",
    "    #precisa do pip pra statsmodels e patsy\n",
    "    import statsmodels.api as sm\n",
    "\n",
    "    #adicionamos 1 coluna pra incluir b0 no modelo\n",
    "    X = np.insert(X, 0, 1, axis=1)\n",
    "\n",
    "    #ajustamos o modelo para todos os possiveis preditores (variaveis independentes)\n",
    "    XOtimo = X[:,[0, 1, 2, 3, 4, 5, 6]]\n",
    "    regressor = sm.OLS(y, XOtimo.astype(float)).fit()\n",
    "    #examinamos o maior p-valor e se ele ultrapassar o limiar de 0.05, removemos\n",
    "    #print(regressor.summary())\n",
    "\n",
    "    #ajustamos o modelo removendo x5 (na mão), pois esta recebeu maior p-valor\n",
    "    XOtimo = X[:,[0, 1, 2, 3, 4, 6]]\n",
    "    regressor = sm.OLS(y, XOtimo.astype(float)).fit()\n",
    "    #examinamos o maior p-valor e se ele ultrapassar o limiar de 0.05, removemos\n",
    "    #print(regressor.summary())\n",
    "\n",
    "    #ajustamos o modelo removendo x6, pois esta recebeu maior p-valor\n",
    "    XOtimo = X[:,[0, 1, 2, 3, 4]]\n",
    "    regressor = sm.OLS(y, XOtimo.astype(float)).fit()\n",
    "    #examinamos o maior p-valor e se ele ultrapassar o limiar de 0.05, removemos\n",
    "    #print(regressor.summary())\n",
    "\n",
    "    #ajustamos o modelo removendo x4, pois esta recebeu maior p-valor\n",
    "    XOtimo = X[:,[0, 1, 2, 3]]\n",
    "    regressor = sm.OLS(y, XOtimo.astype(float)).fit()\n",
    "    #examinamos o maior p-valor e se ele ultrapassar o limiar de 0.05, removemos\n",
    "    #print(regressor.summary())\n",
    "\n",
    "    #ajustamos o modelo removendo x3, pois esta recebeu maior p-valor\n",
    "    XOtimo = X[:,[0, 1, 2]]\n",
    "    regressor = sm.OLS(y, XOtimo.astype(float)).fit()\n",
    "    #examinamos o maior p-valor e se ele ultrapassar o limiar de 0.05, removemos\n",
    "    print(regressor.summary())\n",
    "    print(XOtimo[0,:])"
   ]
  },
  {
   "cell_type": "markdown",
   "id": "d9c74adf",
   "metadata": {},
   "source": [
    "No fim ele só utiliza as variáveis das colunas 1 e 2 do X original para análise, pois as demais passáram de 5% de p-value.\n",
    "\n",
    "Ou seja, no final, só a constante que criamos, a Idade (na coluna 1) e o Body-Mass-Indice (bmi) na coluna 2 que vão ser usadas no modelo.\n",
    "\n",
    "Só que é claro que não vamos fazer isso na mão. O código abaixo automatiza esse teste para a gente."
   ]
  },
  {
   "cell_type": "code",
   "execution_count": 3,
   "id": "f58327c8",
   "metadata": {},
   "outputs": [],
   "source": [
    "import time\n",
    "\n",
    "def computeAutomaticBackwardElimination(XTrain, yTrain, XTest, sl): #o sl é o p-valor mínimo que quermos testar\n",
    "    # Introdução de uma variável \"b0\" que não é introduzida automaticamente pelo statsmodels (mas é introduzido no sklearn)\n",
    "    XTrain = np.insert(XTrain, 0, 1, axis=1)\n",
    "    XTest = np.insert(XTest, 0, 1, axis=1)\n",
    "\n",
    "    import statsmodels.api as sm\n",
    "    numVars = len(XTrain[0])\n",
    "    for i in range(0, numVars):\n",
    "        regressor_OLS = sm.OLS(yTrain, XTrain.astype(float)).fit()\n",
    "        maxVar = max(regressor_OLS.pvalues).astype(float)\n",
    "        if maxVar > sl:\n",
    "            for j in range(0, numVars - i):\n",
    "                if (regressor_OLS.pvalues[j].astype(float) == maxVar):\n",
    "                    #print(\"Deletar coluna\", j)\n",
    "                    XTrain = np.delete(XTrain, j, 1)\n",
    "                    XTest = np.delete(XTest, j, 1)\n",
    "\n",
    "    #regressor_OLS.summary()\n",
    "    return XTrain, XTest"
   ]
  },
  {
   "cell_type": "markdown",
   "id": "e97389dd",
   "metadata": {},
   "source": [
    "Aqui vamos declarar a função da regressão em si."
   ]
  },
  {
   "cell_type": "code",
   "execution_count": 4,
   "id": "e8c0b3f2",
   "metadata": {},
   "outputs": [],
   "source": [
    "def computeMultipleLinearRegressionModel(XTrain, yTrain, XTest, yTest):\n",
    "    from sklearn.linear_model import LinearRegression\n",
    "    regressor = LinearRegression()\n",
    "    regressor.fit(XTrain, yTrain)\n",
    "    yPred = regressor.predict(XTest)\n",
    "    \n",
    "    #gerar grafico\n",
    "    import matplotlib.pyplot as plt\n",
    "    plt.scatter(yPred, yTest, color=\"blue\")\n",
    "    plt.title(\"Valor da Cobrança Predito X Real\")\n",
    "    plt.xlabel(\"Valor Predito\")\n",
    "    plt.ylabel(\"Valor Real\")\n",
    "    plt.show()"
   ]
  },
  {
   "cell_type": "markdown",
   "id": "c937bf16",
   "metadata": {},
   "source": [
    "E agora combinamos tudo para o nosso resultado."
   ]
  },
  {
   "cell_type": "code",
   "execution_count": 5,
   "id": "5eb5e6fb",
   "metadata": {},
   "outputs": [],
   "source": [
    "def runMultipleLinearRegressionExample(filename):\n",
    "    # Carrega o Dataset\n",
    "    start_time = time.time()\n",
    "    X, y = loadDataset(filename)\n",
    "    elapsed_time = time.time() - start_time\n",
    "    print(\"Load Dataset: %.2f\" % elapsed_time, \"segundos.\")\n",
    "\n",
    "    # Preenche a missing data\n",
    "    start_time = time.time()\n",
    "    X = fillMissingData(X, 0, 2) #input manual\n",
    "    elapsed_time = time.time() - start_time\n",
    "    print(\"Fill Missing Data: %.2f\" % elapsed_time, \"segundos.\")\n",
    "\n",
    "    # Cria as colunas dummies\n",
    "    start_time = time.time()\n",
    "    X = computeCategorization(X, 3) #input manual\n",
    "    elapsed_time = time.time() - start_time\n",
    "    print(\"Compute Categorization: %.2f\" % elapsed_time, \"segundos.\")\n",
    "\n",
    "    # Divide em teste e treino\n",
    "    start_time = time.time()\n",
    "    XTrain, XTest, yTrain, yTest = splitTrainTestSets(X, y, 0.8)\n",
    "    elapsed_time = time.time() - start_time\n",
    "    print(\"Split Train Test sets: %.2f\" % elapsed_time, \"segundos.\")\n",
    "\n",
    "    # Monta o backwards elimination pra retirar as colunas com p-value menor que 5%\n",
    "    start_time = time.time()\n",
    "    XTrain, XTest = computeAutomaticBackwardElimination(XTrain, yTrain, XTest, 0.05)\n",
    "    elapsed_time = time.time() - start_time\n",
    "    print(\"Compute Automatic Backward Elimination: %.2f\" % elapsed_time, \"segundos.\")\n",
    "\n",
    "    # Esta era com aquele formato 'manual'\n",
    "    '''start_time = time.time()\n",
    "    computeBackwardElimination(XTrain, yTrain)\n",
    "    elapsed_time = time.time() - start_time\n",
    "    print(\"Compute Backward Elimination: %.2f\" % elapsed_time, \"segundos.\")'''\n",
    "\n",
    "    # Finalmente, com os dados tratados e com as colunas selecionadas fazemos a regressão\n",
    "    start_time = time.time()\n",
    "    computeMultipleLinearRegressionModel(XTrain, yTrain, XTest, yTest)\n",
    "    elapsed_time = time.time() - start_time\n",
    "    print(\"Compute Multiple Linear Regression: %.2f\" % elapsed_time, \"segundos.\")\n"
   ]
  },
  {
   "cell_type": "markdown",
   "id": "675078cd",
   "metadata": {},
   "source": [
    "Com tudo alinhado, basta chamar a função."
   ]
  },
  {
   "cell_type": "code",
   "execution_count": 6,
   "id": "64515a77",
   "metadata": {},
   "outputs": [
    {
     "name": "stdout",
     "output_type": "stream",
     "text": [
      "Load Dataset: 0.03 segundos.\n",
      "Fill Missing Data: 1.08 segundos.\n",
      "Compute Categorization: 0.00 segundos.\n",
      "Split Train Test sets: 0.00 segundos.\n",
      "Compute Automatic Backward Elimination: 0.58 segundos.\n"
     ]
    },
    {
     "data": {
      "image/png": "[encoded data removed]",
      "text/plain": [
       "<Figure size 640x480 with 1 Axes>"
      ]
     },
     "metadata": {},
     "output_type": "display_data"
    },
    {
     "name": "stdout",
     "output_type": "stream",
     "text": [
      "Compute Multiple Linear Regression: 0.67 segundos.\n"
     ]
    }
   ],
   "source": [
    "runMultipleLinearRegressionExample(\"insurance.csv\")"
   ]
  }
 ],
 "metadata": {
  "kernelspec": {
   "display_name": "Python 3 (ipykernel)",
   "language": "python",
   "name": "python3"
  },
  "language_info": {
   "codemirror_mode": {
    "name": "ipython",
    "version": 3
   },
   "file_extension": ".py",
   "mimetype": "text/x-python",
   "name": "python",
   "nbconvert_exporter": "python",
   "pygments_lexer": "ipython3",
   "version": "3.11.7"
  }
 },
 "nbformat": 4,
 "nbformat_minor": 5
}
