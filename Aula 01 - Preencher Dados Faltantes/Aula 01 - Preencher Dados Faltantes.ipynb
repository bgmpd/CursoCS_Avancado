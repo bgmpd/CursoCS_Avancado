{
 "cells": [
  {
   "cell_type": "code",
   "execution_count": 11,
   "id": "99e8d748",
   "metadata": {},
   "outputs": [
    {
     "data": {
      "text/plain": [
       "array([['Site Arqueologia Egípcia', '13438.0', '406590.0'],\n",
       "       ['Terra Negra', '35241.0', '868235.0'],\n",
       "       ['Frank Jaava', '31680.0', '2856508.0'],\n",
       "       ['Dispersciência', '25100.0', '150000.0'],\n",
       "       ['Olá Ciência', '32788.0', '1575456.0'],\n",
       "       ['A matemaníaca por Julia Jaccoud', '65453.0', '1667892.0'],\n",
       "       ['Delta T - Os super lentos', '12000.0', '171361.0'],\n",
       "       ['Bláblálogia', '161951.0', '11027386.0'],\n",
       "       ['Efarsas', '78876.0', '6226235.0'],\n",
       "       ['Minuto da Terra', '274196.0', '30166457.0'],\n",
       "       ['Canal Cura Quântica', '13148.0', '250020.0'],\n",
       "       ['Mensageiro Sideral', '72425.0', '7551491.0'],\n",
       "       ['Universo Racionalista', '7858.0', '43662.0'],\n",
       "       ['Xadrez Verbal', '110549.0', '4151548.0'],\n",
       "       ['Reinaldo José Lopes', '11188.0', '541832.0'],\n",
       "       [\"Bio's Fera\", '5299.0', '44312.0'],\n",
       "       ['QuerQueDesenhe', '56006.0', '1329268.0'],\n",
       "       ['Prof André Azevedo da Fonseca', '45756.0', '1825724.0'],\n",
       "       ['Matemática Rio com Prof Rafael P', '1423056.0', '93036517.0'],\n",
       "       ['Ponto em Comum', '129466.0', '5027880.0'],\n",
       "       ['Canal do Slow', '137409.0', '5363423.0'],\n",
       "       ['Boteco Behaviorista', '18404.0', '1427977.0'],\n",
       "       ['Papo de Primata', '42063.0', '1111334.0'],\n",
       "       ['Minutos Psíquicos', '648892.0', '22555134.0'],\n",
       "       ['Alimente o Cérebro', '135118.0', '3375528.0'],\n",
       "       ['Canal Zoa', '9118.0', '683190.0'],\n",
       "       ['Papo de Biólogo', '374057.0', '12139385.0'],\n",
       "       ['Eu, Ciência', '88211.0', '1616496.0'],\n",
       "       ['Peixe Babel', '153711.78260869565', '10254420.086956521'],\n",
       "       ['SpaceToday', '321068.0', '26277335.0'],\n",
       "       ['Ciência todo dia', '528761.0', '16969332.0'],\n",
       "       ['Colecionadores de Ossos', '24894.0', '806815.0'],\n",
       "       ['Canal do Pirula', '752573.0', '76462787.0'],\n",
       "       ['Jornal Ciensacional', '6216.0', '104217.0'],\n",
       "       ['iBioMovies - Canal de Biologia', '17388.0', '563535.0'],\n",
       "       ['Primata Falante', '110840.0', '4540321.0'],\n",
       "       ['Dragões de Garagem', '6421.0', '82599.0'],\n",
       "       ['Café e Ciência', '38494.0', '916320.0'],\n",
       "       ['Mimimidias', '66122.0', '2009621.0'],\n",
       "       ['Schwarza - Poligonautas', '860493.0', '118741623.0'],\n",
       "       ['Caio na Aula', '13661.0', '748018.0'],\n",
       "       ['ComCiência Corporal', '2308.0', '16150.0'],\n",
       "       ['Leitura ObrigaHISTORIA', '138132.0', '3013264.0'],\n",
       "       ['Portal da Ciência', '64100.0', '2139717.0'],\n",
       "       ['Universo Discreto', '2330.0', '74680.0'],\n",
       "       ['Astrotubers', '4357.0', '41228.0'],\n",
       "       ['O Físico Turista', '53838.0', '1004921.0']], dtype='<U32')"
      ]
     },
     "execution_count": 11,
     "metadata": {},
     "output_type": "execute_result"
    }
   ],
   "source": [
    "import numpy as np\n",
    "import pandas as pd\n",
    "\n",
    "# Estamos importando a base de dados csv\n",
    "baseDeDados = pd.read_csv('svbr.csv', delimiter=';')\n",
    "X = baseDeDados.values\n",
    "\n",
    "# Estamos configurando um \"imputador\" de valores\n",
    "from sklearn.impute import SimpleImputer\n",
    "imputer = SimpleImputer(missing_values=np.nan, # Aqui atribuimos que valor representa o missing 'obs, esse á o valor padrão'\n",
    "                        strategy='mean') # Aqui definimos a estratégia para preencher esses valores\n",
    "\n",
    "\n",
    "imputer = imputer.fit(X[:,1:]) # Ajusta o imputador aos dados forneceidos (pula a coluna dos nomes)\n",
    "X = imputer.transform(X[:,1:]).astype(str) # Vai aplicar o imputador ajustado as colunas necessárias\n",
    "\n",
    "# Agora vamos juntar os dados ajustados a coluna dos nomes.\n",
    "\n",
    "# Insere as colunas ajustadas pelo imputador \n",
    "X = np.insert(X, #Array ao qual irei adicionar valores\n",
    "              0, #Em qual índice os valores serão adicionados\n",
    "              baseDeDados.iloc[:,0].values, #Os valores que serão adicionados\n",
    "              axis =1) #Se o índice se refere a linhas ou colunas.\n",
    "\n",
    "X"
   ]
  }
 ],
 "metadata": {
  "kernelspec": {
   "display_name": "Python 3 (ipykernel)",
   "language": "python",
   "name": "python3"
  },
  "language_info": {
   "codemirror_mode": {
    "name": "ipython",
    "version": 3
   },
   "file_extension": ".py",
   "mimetype": "text/x-python",
   "name": "python",
   "nbconvert_exporter": "python",
   "pygments_lexer": "ipython3",
   "version": "3.11.7"
  }
 },
 "nbformat": 4,
 "nbformat_minor": 5
}
