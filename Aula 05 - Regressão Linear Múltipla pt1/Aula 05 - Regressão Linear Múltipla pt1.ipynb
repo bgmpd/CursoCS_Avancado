{
 "cells": [
  {
   "cell_type": "markdown",
   "id": "d6cae44d",
   "metadata": {},
   "source": [
    "# Aula 05 - Regressão Linear Múltipla pt1\n",
    "\n",
    "A regressão linear múltipla é uma técnica estatística utilizada para entender a relação entre uma variável dependente (a variável que queremos prever) e duas ou mais variáveis independentes (variáveis que usamos para fazer a previsão).\n",
    "\n",
    "Em outras palavras, ela estende o conceito de regressão linear simples, onde há apenas uma variável independente, para o caso em que há múltiplas variáveis independentes.\n",
    "\n",
    "Por exemplo, imagine que você queira prever o preço de uma casa. Você pode usar como variáveis independentes o tamanho da casa, o número de quartos, a proximidade de transportes públicos, etc. A regressão linear múltipla ajuda a entender como cada uma dessas variáveis influencia o preço da casa e a construir um modelo para prever esse preço com base nessas variáveis."
   ]
  },
  {
   "cell_type": "markdown",
   "id": "804172d9",
   "metadata": {},
   "source": [
    "Nesta aula o professor criou um arquivo chamado `preprocessing.py` que contém o código abaixo. Apenas para preparar o material."
   ]
  },
  {
   "cell_type": "code",
   "execution_count": 1,
   "id": "6b920dbf",
   "metadata": {},
   "outputs": [],
   "source": [
    "import numpy as np\n",
    "import pandas as pd\n",
    "\n",
    "def loadDataset(filename):\n",
    "    baseDeDados = pd.read_csv(filename, delimiter=';')\n",
    "    X = baseDeDados.iloc[:,:-1].values\n",
    "    y = baseDeDados.iloc[:,-1].values\n",
    "    return X, y\n",
    "\n",
    "def fillMissingData(X, inicioColuna, fimColuna):\n",
    "    from sklearn.impute import SimpleImputer\n",
    "    imputer = SimpleImputer(missing_values=np.nan, strategy='median')\n",
    "    X[:,inicioColuna:fimColuna + 1] = imputer.fit_transform(X[:,inicioColuna:fimColuna + 1])\n",
    "    return X\n",
    "\n",
    "# só funciona se i = 0 ou i = ultima coluna\n",
    "def computeCategorization(X, i):\n",
    "    \n",
    "    from sklearn.preprocessing import LabelEncoder\n",
    "    labelencoder_X = LabelEncoder()\n",
    "    X[:, i] = labelencoder_X.fit_transform(X[:, i])\n",
    "\n",
    "    #one hot encoding\n",
    "    D = pd.get_dummies(X[:,i]).values #Cria dummies para os valores únicos encontrados na coluna i da matriz X\n",
    "    if(i == 0):\n",
    "        X = X[:,1:]\n",
    "        X = np.insert(X, 0, D, axis=1)\n",
    "        #removendo dummy variable trap\n",
    "        X = X[:,1:]\n",
    "    else:\n",
    "        X = X[:,:i]\n",
    "        for j in range(0, D.shape[1]): #Para cada coluna da matriz D vai inserindo uma a uma ao final de X.\n",
    "            X = np.insert(X, i, D[:,j], axis=1)\n",
    "        #removendo dummy variable trap\n",
    "        X = X[:,:-1]\n",
    "    return X\n",
    "\n",
    "def splitTrainTestSets(X, y, testSize):\n",
    "    from sklearn.model_selection import train_test_split\n",
    "    XTrain, XTest, yTrain, yTest = train_test_split(X, y, test_size = testSize)\n",
    "    return XTrain, XTest, yTrain, yTest\n",
    "\n",
    "def computeScaling(train, test):\n",
    "    from sklearn.preprocessing import StandardScaler\n",
    "    scaleX = StandardScaler()\n",
    "    train = scaleX.fit_transform(train)\n",
    "    test = scaleX.fit_transform(test)\n",
    "    return train, test"
   ]
  },
  {
   "cell_type": "markdown",
   "id": "03a53d78",
   "metadata": {},
   "source": [
    "Obs: Na aula, como o processor está executando o Python localmente, ele salva esse arquivo `preprocessing.py` e chama os métodos em outros arquivos quando necessário.\n",
    "\n",
    "Ele utiliza essas funções criadas em dois outros arquivos. Um que cria funções de regressão linear e outro de regressão multilinear.\n",
    "\n",
    "No arquivo abaixo ele também irá usar o módulo `time` para medir o tempo das operações."
   ]
  },
  {
   "cell_type": "code",
   "execution_count": 2,
   "id": "fad8445e",
   "metadata": {},
   "outputs": [],
   "source": [
    "#temporizador\n",
    "import time\n",
    "\n",
    "def computeLinearRegressionModel(XTrain, yTrain, XTest, yTest):\n",
    "    from sklearn.linear_model import LinearRegression\n",
    "    regressor = LinearRegression()\n",
    "    regressor.fit(XTrain, yTrain)\n",
    "    yPred = regressor.predict(XTest)\n",
    "\n",
    "    #gerar grafico\n",
    "    import matplotlib.pyplot as plt\n",
    "    plt.scatter(XTest[:,-1], yTest, color=\"red\")\n",
    "    plt.plot(XTest[:,-1], yPred, color=\"blue\")\n",
    "    plt.title(\"Inscritos x Visualizações (SVBR)\")\n",
    "    plt.xlabel(\"Total de Inscritos\")\n",
    "    plt.ylabel(\"Total de Visualizações\")\n",
    "    plt.show()\n",
    "\n",
    "def runLinearRegressionExample(filename):\n",
    "    start_time = time.time()\n",
    "    X, y = loadDataset(filename)\n",
    "    elapsed_time = time.time() - start_time\n",
    "    print(\"Load Dataset: %.2f\" % elapsed_time, \"segundos.\")\n",
    "\n",
    "    start_time = time.time()\n",
    "    X = fillMissingData(X, 1, 2) #Precisa começar neste caso porque sabemos que a coluna 0 é nominal\n",
    "    elapsed_time = time.time() - start_time\n",
    "    print(\"Fill Missing Data: %.2f\" % elapsed_time, \"segundos.\")\n",
    "\n",
    "    start_time = time.time()\n",
    "    X = computeCategorization(X, 0)\n",
    "    elapsed_time = time.time() - start_time\n",
    "    print(\"Compute Categorization: %.2f\" % elapsed_time, \"segundos.\")\n",
    "\n",
    "    start_time = time.time()\n",
    "    XTrain, XTest, yTrain, yTest = splitTrainTestSets(X, y, 0.8)\n",
    "    elapsed_time = time.time() - start_time\n",
    "    print(\"Split Train Test sets: %.2f\" % elapsed_time, \"segundos.\")\n",
    "\n",
    "    start_time = time.time()\n",
    "    computeLinearRegressionModel(XTrain, yTrain, XTest, yTest)\n",
    "    elapsed_time = time.time() - start_time\n",
    "    print(\"Compute Linear Regression: %.2f\" % elapsed_time, \"segundos.\")"
   ]
  },
  {
   "cell_type": "markdown",
   "id": "4c81c1f5",
   "metadata": {},
   "source": [
    "Uma vez definidas as funções, para gerar a regressão linear basta chamar a função e com o arquivo desejado."
   ]
  },
  {
   "cell_type": "code",
   "execution_count": 3,
   "id": "f10db2bd",
   "metadata": {},
   "outputs": [
    {
     "data": {
      "text/html": [
       "<div>\n",
       "<style scoped>\n",
       "    .dataframe tbody tr th:only-of-type {\n",
       "        vertical-align: middle;\n",
       "    }\n",
       "\n",
       "    .dataframe tbody tr th {\n",
       "        vertical-align: top;\n",
       "    }\n",
       "\n",
       "    .dataframe thead th {\n",
       "        text-align: right;\n",
       "    }\n",
       "</style>\n",
       "<table border=\"1\" class=\"dataframe\">\n",
       "  <thead>\n",
       "    <tr style=\"text-align: right;\">\n",
       "      <th></th>\n",
       "      <th>Canal</th>\n",
       "      <th>Inscritos</th>\n",
       "      <th>Visualizações</th>\n",
       "    </tr>\n",
       "  </thead>\n",
       "  <tbody>\n",
       "    <tr>\n",
       "      <th>0</th>\n",
       "      <td>Site Arqueologia Egípcia</td>\n",
       "      <td>13438.0</td>\n",
       "      <td>406590</td>\n",
       "    </tr>\n",
       "    <tr>\n",
       "      <th>1</th>\n",
       "      <td>Terra Negra</td>\n",
       "      <td>35241.0</td>\n",
       "      <td>868235</td>\n",
       "    </tr>\n",
       "    <tr>\n",
       "      <th>2</th>\n",
       "      <td>Frank Jaava</td>\n",
       "      <td>31680.0</td>\n",
       "      <td>2856508</td>\n",
       "    </tr>\n",
       "    <tr>\n",
       "      <th>3</th>\n",
       "      <td>Dispersciência</td>\n",
       "      <td>25100.0</td>\n",
       "      <td>150000</td>\n",
       "    </tr>\n",
       "    <tr>\n",
       "      <th>4</th>\n",
       "      <td>Olá Ciência</td>\n",
       "      <td>32788.0</td>\n",
       "      <td>1575456</td>\n",
       "    </tr>\n",
       "  </tbody>\n",
       "</table>\n",
       "</div>"
      ],
      "text/plain": [
       "                      Canal  Inscritos  Visualizações\n",
       "0  Site Arqueologia Egípcia    13438.0         406590\n",
       "1               Terra Negra    35241.0         868235\n",
       "2               Frank Jaava    31680.0        2856508\n",
       "3            Dispersciência    25100.0         150000\n",
       "4               Olá Ciência    32788.0        1575456"
      ]
     },
     "execution_count": 3,
     "metadata": {},
     "output_type": "execute_result"
    }
   ],
   "source": [
    "pd.read_csv(\"svbr.csv\", delimiter=';').head()"
   ]
  },
  {
   "cell_type": "code",
   "execution_count": 4,
   "id": "b3eef417",
   "metadata": {},
   "outputs": [
    {
     "name": "stdout",
     "output_type": "stream",
     "text": [
      "Load Dataset: 0.00 segundos.\n",
      "Fill Missing Data: 0.65 segundos.\n",
      "Compute Categorization: 0.00 segundos.\n",
      "Split Train Test sets: 0.00 segundos.\n"
     ]
    },
    {
     "data": {
      "image/png": "[encoded data removed]",
      "text/plain": [
       "<Figure size 640x480 with 1 Axes>"
      ]
     },
     "metadata": {},
     "output_type": "display_data"
    },
    {
     "name": "stdout",
     "output_type": "stream",
     "text": [
      "Compute Linear Regression: 0.45 segundos.\n"
     ]
    }
   ],
   "source": [
    "runLinearRegressionExample(\"svbr.csv\")"
   ]
  },
  {
   "cell_type": "markdown",
   "id": "72695231",
   "metadata": {},
   "source": [
    "Até o momento repetimos as mesmas coisas da aula 4 (com algumas alterações) de Regressão Linear Simples. Agora vamos realizar algumas modificações para realizar a Regressão Linear Múltipla.\n",
    "\n",
    "A princípio ela parece bem similar. Vou destacar com comentários (#) os pontos que mudaram."
   ]
  },
  {
   "cell_type": "code",
   "execution_count": 5,
   "id": "321c91ad",
   "metadata": {},
   "outputs": [
    {
     "data": {
      "text/html": [
       "<div>\n",
       "<style scoped>\n",
       "    .dataframe tbody tr th:only-of-type {\n",
       "        vertical-align: middle;\n",
       "    }\n",
       "\n",
       "    .dataframe tbody tr th {\n",
       "        vertical-align: top;\n",
       "    }\n",
       "\n",
       "    .dataframe thead th {\n",
       "        text-align: right;\n",
       "    }\n",
       "</style>\n",
       "<table border=\"1\" class=\"dataframe\">\n",
       "  <thead>\n",
       "    <tr style=\"text-align: right;\">\n",
       "      <th></th>\n",
       "      <th>age</th>\n",
       "      <th>bmi</th>\n",
       "      <th>children</th>\n",
       "      <th>region</th>\n",
       "      <th>charges</th>\n",
       "    </tr>\n",
       "  </thead>\n",
       "  <tbody>\n",
       "    <tr>\n",
       "      <th>0</th>\n",
       "      <td>19</td>\n",
       "      <td>27.900</td>\n",
       "      <td>0</td>\n",
       "      <td>southwest</td>\n",
       "      <td>16884.92400</td>\n",
       "    </tr>\n",
       "    <tr>\n",
       "      <th>1</th>\n",
       "      <td>18</td>\n",
       "      <td>33.770</td>\n",
       "      <td>1</td>\n",
       "      <td>southeast</td>\n",
       "      <td>1725.55230</td>\n",
       "    </tr>\n",
       "    <tr>\n",
       "      <th>2</th>\n",
       "      <td>28</td>\n",
       "      <td>33.000</td>\n",
       "      <td>3</td>\n",
       "      <td>southeast</td>\n",
       "      <td>4449.46200</td>\n",
       "    </tr>\n",
       "    <tr>\n",
       "      <th>3</th>\n",
       "      <td>33</td>\n",
       "      <td>22.705</td>\n",
       "      <td>0</td>\n",
       "      <td>northwest</td>\n",
       "      <td>21984.47061</td>\n",
       "    </tr>\n",
       "    <tr>\n",
       "      <th>4</th>\n",
       "      <td>32</td>\n",
       "      <td>28.880</td>\n",
       "      <td>0</td>\n",
       "      <td>northwest</td>\n",
       "      <td>3866.85520</td>\n",
       "    </tr>\n",
       "  </tbody>\n",
       "</table>\n",
       "</div>"
      ],
      "text/plain": [
       "   age     bmi  children     region      charges\n",
       "0   19  27.900         0  southwest  16884.92400\n",
       "1   18  33.770         1  southeast   1725.55230\n",
       "2   28  33.000         3  southeast   4449.46200\n",
       "3   33  22.705         0  northwest  21984.47061\n",
       "4   32  28.880         0  northwest   3866.85520"
      ]
     },
     "execution_count": 5,
     "metadata": {},
     "output_type": "execute_result"
    }
   ],
   "source": [
    "pd.read_csv(\"insurance.csv\", delimiter=';').head()"
   ]
  },
  {
   "cell_type": "code",
   "execution_count": 6,
   "id": "920be619",
   "metadata": {},
   "outputs": [],
   "source": [
    "#temporizador\n",
    "import time\n",
    "\n",
    "def computeMultipleLinearRegressionModel(XTrain, yTrain, XTest, yTest):\n",
    "    from sklearn.linear_model import LinearRegression\n",
    "    regressor = LinearRegression()\n",
    "    regressor.fit(XTrain, yTrain)\n",
    "    yPred = regressor.predict(XTest)\n",
    "    \n",
    "    #gerar grafico\n",
    "    import matplotlib.pyplot as plt\n",
    "    plt.scatter(yPred, yTest, color=\"blue\")\n",
    "    plt.title(\"Valor da Cobrança Predito X Real\")\n",
    "    plt.xlabel(\"Valor Predito\")\n",
    "    plt.ylabel(\"Valor Real\")\n",
    "    plt.show()\n",
    "    \n",
    "def runMultipleLinearRegressionExample(filename):\n",
    "    start_time = time.time()\n",
    "    X, y = loadDataset(filename)\n",
    "    elapsed_time = time.time() - start_time\n",
    "    print(\"Load Dataset: %.2f\" % elapsed_time, \"segundos.\")\n",
    "\n",
    "    start_time = time.time()\n",
    "    X = fillMissingData(X, 0, 2) #Aqui, adaptamos pois a coluna categórica é a final de X (ao invés da inicial)\n",
    "    elapsed_time = time.time() - start_time\n",
    "    print(\"Fill Missing Data: %.2f\" % elapsed_time, \"segundos.\")\n",
    "\n",
    "    start_time = time.time()\n",
    "    X = computeCategorization(X, 3) #Aqui também vai pegar especificamente a coluna categórica. Também imputamos na mão.\n",
    "    elapsed_time = time.time() - start_time\n",
    "    print(\"Compute Categorization: %.2f\" % elapsed_time, \"segundos.\")\n",
    "\n",
    "    start_time = time.time()\n",
    "    XTrain, XTest, yTrain, yTest = splitTrainTestSets(X, y, 0.8)\n",
    "    elapsed_time = time.time() - start_time\n",
    "    print(\"Split Train Test sets: %.2f\" % elapsed_time, \"segundos.\")\n",
    "\n",
    "    start_time = time.time()\n",
    "    computeMultipleLinearRegressionModel(XTrain, yTrain, XTest, yTest)\n",
    "    elapsed_time = time.time() - start_time\n",
    "    print(\"Compute Multiple Linear Regression: %.2f\" % elapsed_time, \"segundos.\")    "
   ]
  },
  {
   "cell_type": "markdown",
   "id": "6402b489",
   "metadata": {},
   "source": [
    "Agora chamando a função."
   ]
  },
  {
   "cell_type": "code",
   "execution_count": 7,
   "id": "a9b59e14",
   "metadata": {},
   "outputs": [
    {
     "data": {
      "text/html": [
       "<div>\n",
       "<style scoped>\n",
       "    .dataframe tbody tr th:only-of-type {\n",
       "        vertical-align: middle;\n",
       "    }\n",
       "\n",
       "    .dataframe tbody tr th {\n",
       "        vertical-align: top;\n",
       "    }\n",
       "\n",
       "    .dataframe thead th {\n",
       "        text-align: right;\n",
       "    }\n",
       "</style>\n",
       "<table border=\"1\" class=\"dataframe\">\n",
       "  <thead>\n",
       "    <tr style=\"text-align: right;\">\n",
       "      <th></th>\n",
       "      <th>age</th>\n",
       "      <th>bmi</th>\n",
       "      <th>children</th>\n",
       "      <th>region</th>\n",
       "      <th>charges</th>\n",
       "    </tr>\n",
       "  </thead>\n",
       "  <tbody>\n",
       "    <tr>\n",
       "      <th>0</th>\n",
       "      <td>19</td>\n",
       "      <td>27.900</td>\n",
       "      <td>0</td>\n",
       "      <td>southwest</td>\n",
       "      <td>16884.92400</td>\n",
       "    </tr>\n",
       "    <tr>\n",
       "      <th>1</th>\n",
       "      <td>18</td>\n",
       "      <td>33.770</td>\n",
       "      <td>1</td>\n",
       "      <td>southeast</td>\n",
       "      <td>1725.55230</td>\n",
       "    </tr>\n",
       "    <tr>\n",
       "      <th>2</th>\n",
       "      <td>28</td>\n",
       "      <td>33.000</td>\n",
       "      <td>3</td>\n",
       "      <td>southeast</td>\n",
       "      <td>4449.46200</td>\n",
       "    </tr>\n",
       "    <tr>\n",
       "      <th>3</th>\n",
       "      <td>33</td>\n",
       "      <td>22.705</td>\n",
       "      <td>0</td>\n",
       "      <td>northwest</td>\n",
       "      <td>21984.47061</td>\n",
       "    </tr>\n",
       "    <tr>\n",
       "      <th>4</th>\n",
       "      <td>32</td>\n",
       "      <td>28.880</td>\n",
       "      <td>0</td>\n",
       "      <td>northwest</td>\n",
       "      <td>3866.85520</td>\n",
       "    </tr>\n",
       "  </tbody>\n",
       "</table>\n",
       "</div>"
      ],
      "text/plain": [
       "   age     bmi  children     region      charges\n",
       "0   19  27.900         0  southwest  16884.92400\n",
       "1   18  33.770         1  southeast   1725.55230\n",
       "2   28  33.000         3  southeast   4449.46200\n",
       "3   33  22.705         0  northwest  21984.47061\n",
       "4   32  28.880         0  northwest   3866.85520"
      ]
     },
     "execution_count": 7,
     "metadata": {},
     "output_type": "execute_result"
    }
   ],
   "source": [
    "pd.read_csv(\"insurance.csv\", delimiter=';').head()"
   ]
  },
  {
   "cell_type": "code",
   "execution_count": 8,
   "id": "332fe775",
   "metadata": {},
   "outputs": [
    {
     "name": "stdout",
     "output_type": "stream",
     "text": [
      "Load Dataset: 0.00 segundos.\n",
      "Fill Missing Data: 0.00 segundos.\n",
      "Compute Categorization: 0.00 segundos.\n",
      "Split Train Test sets: 0.00 segundos.\n"
     ]
    },
    {
     "data": {
      "image/png": "[encoded data removed]",
      "text/plain": [
       "<Figure size 640x480 with 1 Axes>"
      ]
     },
     "metadata": {},
     "output_type": "display_data"
    },
    {
     "name": "stdout",
     "output_type": "stream",
     "text": [
      "Compute Multiple Linear Regression: 0.08 segundos.\n"
     ]
    }
   ],
   "source": [
    "runMultipleLinearRegressionExample(\"insurance.csv\")"
   ]
  },
  {
   "cell_type": "markdown",
   "id": "8a3bb85f",
   "metadata": {},
   "source": [
    "Vemos que uma regressão linear nem sempre (na verdade, raramente) é um modelo ideal para se usar no mundo real. Tendo que os valores preditos estão bem diferentes dos valores reais na base teste. Se olharmos cada ponto podemos ver que o eixo horizontal (yPred) e o vertical (yTest) raramente estão no meio valor."
   ]
  }
 ],
 "metadata": {
  "kernelspec": {
   "display_name": "Python 3 (ipykernel)",
   "language": "python",
   "name": "python3"
  },
  "language_info": {
   "codemirror_mode": {
    "name": "ipython",
    "version": 3
   },
   "file_extension": ".py",
   "mimetype": "text/x-python",
   "name": "python",
   "nbconvert_exporter": "python",
   "pygments_lexer": "ipython3",
   "version": "3.11.7"
  }
 },
 "nbformat": 4,
 "nbformat_minor": 5
}
